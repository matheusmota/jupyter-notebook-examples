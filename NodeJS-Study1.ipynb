{
 "cells": [
  {
   "cell_type": "markdown",
   "metadata": {},
   "source": [
    "# OO\n"
   ]
  },
  {
   "cell_type": "code",
   "execution_count": 16,
   "metadata": {
    "collapsed": false
   },
   "outputs": [
    {
     "ename": "Javascript Error",
     "evalue": "Unexpected strict mode reserved word",
     "output_type": "error",
     "traceback": [
      "evalmachine.<anonymous>:17\n             console.log('Com generator: Meu nome é: ' + yield this.name);\n                                                         ^^^^^\nSyntaxError: Unexpected strict mode reserved word\n    at createScript (vm.js:53:10)\n    at Object.runInContext (vm.js:86:10)\n    at Context.rawRun (/home/matheus/Programs/jupyter-nodejs/build/context.js:184:30)\n    at Domain.<anonymous> (/home/matheus/Programs/jupyter-nodejs/build/context.js:204:27)\n    at Domain.run (domain.js:221:14)\n    at Context.rawEvaluate (/home/matheus/Programs/jupyter-nodejs/build/context.js:202:9)\n    at Context.execute (/home/matheus/Programs/jupyter-nodejs/build/context.js:354:21)\n    at Kernel.executeRequest (/home/matheus/Programs/jupyter-nodejs/build/kernel.js:224:16)\n    at Kernel.onShell (/home/matheus/Programs/jupyter-nodejs/build/kernel.js:126:14)\n    at emitMany (events.js:127:13)"
     ]
    }
   ],
   "source": [
    "var x = class Person {\n",
    "\n",
    "        //Não funciona\n",
    "        //nome = \"\";\n",
    "  \n",
    "        constructor(name){\n",
    "        \n",
    "            this.name = name;\n",
    "        }\n",
    "        \n",
    "        printName(){\n",
    "            \n",
    "            console.log('Meu nome é: ' + this.name);\n",
    "        }   \n",
    "    \n",
    "       *printNameGenerator(){\n",
    "            yield console.log('Com generator: Meu nome é: ' + this.name);\n",
    "        }   \n",
    "}"
   ]
  },
  {
   "cell_type": "code",
   "execution_count": 15,
   "metadata": {
    "collapsed": false
   },
   "outputs": [],
   "source": [
    "var person1 = new Person(\"John Doe\");\n",
    "var person2 = new Person(\"Bob Silva\");"
   ]
  },
  {
   "cell_type": "code",
   "execution_count": 10,
   "metadata": {
    "collapsed": false
   },
   "outputs": [
    {
     "name": "stdout",
     "output_type": "stream",
     "text": [
      "Meu nome é: John Doe\n",
      "Meu nome é: Bob Silva\n"
     ]
    }
   ],
   "source": [
    "person1.printName();\n",
    "person2.printName();\n"
   ]
  },
  {
   "cell_type": "code",
   "execution_count": 11,
   "metadata": {
    "collapsed": false
   },
   "outputs": [
    {
     "data": {
      "text/plain": [
       "[] {}"
      ]
     },
     "execution_count": 11,
     "metadata": {},
     "output_type": "execute_result"
    }
   ],
   "source": [
    "person1.printNameGenerator();\n",
    "person2.printNameGenerator();\n"
   ]
  },
  {
   "cell_type": "code",
   "execution_count": 5,
   "metadata": {
    "collapsed": false
   },
   "outputs": [
    {
     "name": "stdout",
     "output_type": "stream",
     "text": [
      "hello\n",
      "And good bye!\n"
     ]
    }
   ],
   "source": [
    "console.log(\"hello\") ;\n",
    "var o = setTimeout(function() {console.log(\"And good bye!\");},2000);"
   ]
  },
  {
   "cell_type": "code",
   "execution_count": 6,
   "metadata": {
    "collapsed": false
   },
   "outputs": [
    {
     "name": "stdout",
     "output_type": "stream",
     "text": [
      "hello\n",
      "And good bye!\n",
      "Meu nome é: undefined\n"
     ]
    }
   ],
   "source": [
    "console.log(\"hello\") ;\n",
    "var o = setTimeout(person1.printName,1000);\n",
    "console.log(\"And good bye!\");"
   ]
  },
  {
   "cell_type": "code",
   "execution_count": 7,
   "metadata": {
    "collapsed": false
   },
   "outputs": [
    {
     "name": "stdout",
     "output_type": "stream",
     "text": [
      "hello\n",
      "And good bye!\n"
     ]
    }
   ],
   "source": [
    "console.log(\"hello\") ;\n",
    "setTimeout(person1.printNameGenerator,1000);\n",
    "console.log(\"And good bye!\");"
   ]
  },
  {
   "cell_type": "code",
   "execution_count": 12,
   "metadata": {
    "collapsed": false
   },
   "outputs": [
    {
     "data": {
      "text/plain": [
       "[] {}"
      ]
     },
     "execution_count": 12,
     "metadata": {},
     "output_type": "execute_result"
    }
   ],
   "source": [
    "var foo = function *foo() {\n",
    "    var x = 1 + (yield \"foo\");\n",
    "    console.log(x);\n",
    "}\n",
    "foo();"
   ]
  },
  {
   "cell_type": "code",
   "execution_count": 13,
   "metadata": {
    "collapsed": false
   },
   "outputs": [
    {
     "data": {
      "text/plain": [
       "[] {}"
      ]
     },
     "execution_count": 13,
     "metadata": {},
     "output_type": "execute_result"
    }
   ],
   "source": [
    "function *foo() {\n",
    "\n",
    "    var x = 1 + (yield \"foo\");\n",
    "    console.log(x);\n",
    "}\n",
    "foo();"
   ]
  },
  {
   "cell_type": "markdown",
   "metadata": {},
   "source": [
    "## Asyncronous"
   ]
  },
  {
   "cell_type": "code",
   "execution_count": 10,
   "metadata": {
    "collapsed": false
   },
   "outputs": [],
   "source": [
    "function countTo(number, milliseconds) {\n",
    "    var counter = function() {\n",
    "        console.log(counter._n++);\n",
    "        \n",
    "        if (counter._n > number) {\n",
    "            clearInterval(counter._intervalObject);\n",
    "            console.warn(\"Done!\");\n",
    "        }\n",
    "    };\n",
    "    counter._n = 1;\n",
    "    counter._intervalObject = setInterval(counter, milliseconds);\n",
    "}\n",
    "\n",
    "countTo(5, 1000);"
   ]
  },
  {
   "cell_type": "code",
   "execution_count": 11,
   "metadata": {
    "collapsed": false
   },
   "outputs": [
    {
     "name": "stdout",
     "output_type": "stream",
     "text": [
      "Hello!\n",
      "Meu nome é: undefined\n",
      "1\n"
     ]
    },
    {
     "data": {
      "text/plain": [
       "'And good bye!'"
      ]
     },
     "execution_count": 11,
     "metadata": {},
     "output_type": "execute_result"
    },
    {
     "name": "stdout",
     "output_type": "stream",
     "text": [
      "And good bye!\n",
      "2\n",
      "3\n",
      "4\n",
      "5\n"
     ]
    },
    {
     "name": "stderr",
     "output_type": "stream",
     "text": [
      "Done!\n"
     ]
    }
   ],
   "source": [
    "$$async$$ = true;\n",
    "\n",
    "console.log(\"Hello!\");\n",
    "\n",
    "setTimeout(\n",
    "    function() {\n",
    "        $$done$$(\"And good bye!\");\n",
    "    },\n",
    "    1000\n",
    ");"
   ]
  }
 ],
 "metadata": {
  "kernelspec": {
   "display_name": "NodeJS",
   "language": "javascript",
   "name": "nodejs"
  },
  "language_info": {
   "codemirror_mode": "javascript",
   "file_extension": ".js",
   "mimetype": "text/javascript",
   "name": "nodejs",
   "pygments_lexer": "javascript",
   "version": "0.10"
  }
 },
 "nbformat": 4,
 "nbformat_minor": 2
}
