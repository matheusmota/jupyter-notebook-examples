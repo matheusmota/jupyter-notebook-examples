{
 "cells": [
  {
   "cell_type": "markdown",
   "metadata": {},
   "source": [
    "# Using py2neo to work with neo4j\n",
    "\n",
    "Py2neo is a client library/toolkit for working with Neo4j with Python. \n",
    "This notebook exemplificates several aspects of the library. \n",
    "\n",
    "The complete documentation can be found here: http://py2neo.org/v3/"
   ]
  },
  {
   "cell_type": "markdown",
   "metadata": {},
   "source": [
    "### Connecting to a neo4j database instance\n",
    "\n",
    "More details at: http://py2neo.org/v3/database.html#the-graph"
   ]
  },
  {
   "cell_type": "code",
   "execution_count": 1,
   "metadata": {
    "scrolled": true
   },
   "outputs": [
    {
     "name": "stdout",
     "output_type": "stream",
     "text": [
      "Connected\n",
      "<Graph uri='http://neo4j.lis.ic.unicamp.br:80/db/data/'>\n"
     ]
    }
   ],
   "source": [
    "from py2neo import Graph\n",
    "\n",
    "### Using default parameters -- localhost:7474 no login/passwd required\n",
    "#graph = Graph()\n",
    "\n",
    "### Using url only (the notation \"http://<host>:<port>\" is mandatory)\n",
    "#graph = Graph(\"http://localhost:7474/db/data/\")\n",
    "#graph = Graph(\"http://neo4j.lis.ic.unicamp.br:80/db/data/\")\n",
    "\n",
    "### http \n",
    "#graph = Graph(host =\"localhost\", http_port = 7474)\n",
    "#graph = Graph(\"http://neo4j.lis.ic.unicamp.br:80/db/data/\")\n",
    "\n",
    "### https\n",
    "#graph = Graph(host =\"localhost\", http_port = 7473)\n",
    "#graph = Graph(\"http://neo4j.lis.ic.unicamp.br:443/db/data/\")\n",
    "\n",
    "### authentication \n",
    "#graph = Graph(host = \"localhost\", http_port = 7474, user=\"neo4j\", password=\"123\")\n",
    "\n",
    "### For neo4j's new Bolt binary protocol (available in Neo4j 3.0+) see the documentation link \n",
    "\n",
    "### My parameters\n",
    "#graph = Graph(\"http://neo4j.lis.ic.unicamp.br:80/db/data/\", )\n",
    "graph = Graph(host = \"neo4j.lis.ic.unicamp.br\", http_port = 80, bolt = False,  secure = False)\n",
    "\n",
    "\n",
    "if(graph):\n",
    "    print (\"Connected\")\n",
    "    print (graph)\n",
    "\n",
    "graph.begin(autocommit=True)\n",
    "graph.delete_all()"
   ]
  },
  {
   "cell_type": "markdown",
   "metadata": {},
   "source": [
    "### Creating Nodes"
   ]
  },
  {
   "cell_type": "code",
   "execution_count": 2,
   "metadata": {
    "collapsed": true
   },
   "outputs": [],
   "source": [
    "from py2neo import Node\n",
    "\n",
    "### Examples of nodes labeled as Person\n",
    "john = Node(\"Person\", name=\"John\", surname=\"Doe\", age=24)\n",
    "jane = Node(\"Person\", name=\"Jane\", surname=\"Doe\", age=28)\n",
    "\n",
    "### Examples of nodes labeled as Movie\n",
    "memento = Node(\"Movie\", title=\"Memento\", year=2001)\n",
    "ib      = Node(\"Movie\", title=\"Inglourious Basterds\", year=2009)\n",
    "titanic = Node(\"Movie\", title=\"Titanic\", year=1997)\n",
    "\n",
    "### Examples of nodes labeled as Serie\n",
    "twd = Node(\"Serie\", title=\"The Walking Dead\", year=2010)\n",
    "\n",
    "### Creatin/persisting the nodes\n",
    "graph.create(john | jane | memento | ib | titanic | twd)"
   ]
  },
  {
   "cell_type": "markdown",
   "metadata": {},
   "source": [
    "Using Pandas to retrieve the created nodes"
   ]
  },
  {
   "cell_type": "code",
   "execution_count": 3,
   "metadata": {},
   "outputs": [
    {
     "data": {
      "text/html": [
       "<div>\n",
       "<style>\n",
       "    .dataframe thead tr:only-child th {\n",
       "        text-align: right;\n",
       "    }\n",
       "\n",
       "    .dataframe thead th {\n",
       "        text-align: left;\n",
       "    }\n",
       "\n",
       "    .dataframe tbody tr th {\n",
       "        vertical-align: top;\n",
       "    }\n",
       "</style>\n",
       "<table border=\"1\" class=\"dataframe\">\n",
       "  <thead>\n",
       "    <tr style=\"text-align: right;\">\n",
       "      <th></th>\n",
       "      <th>label</th>\n",
       "      <th>n</th>\n",
       "    </tr>\n",
       "  </thead>\n",
       "  <tbody>\n",
       "    <tr>\n",
       "      <th>0</th>\n",
       "      <td>[Movie]</td>\n",
       "      <td>{'title': 'Titanic', 'year': 1997}</td>\n",
       "    </tr>\n",
       "    <tr>\n",
       "      <th>1</th>\n",
       "      <td>[Movie]</td>\n",
       "      <td>{'title': 'Memento', 'year': 2001}</td>\n",
       "    </tr>\n",
       "    <tr>\n",
       "      <th>2</th>\n",
       "      <td>[Movie]</td>\n",
       "      <td>{'title': 'Inglourious Basterds', 'year': 2009}</td>\n",
       "    </tr>\n",
       "    <tr>\n",
       "      <th>3</th>\n",
       "      <td>[Person]</td>\n",
       "      <td>{'age': 28, 'surname': 'Doe', 'name': 'Jane'}</td>\n",
       "    </tr>\n",
       "    <tr>\n",
       "      <th>4</th>\n",
       "      <td>[Person]</td>\n",
       "      <td>{'age': 24, 'surname': 'Doe', 'name': 'John'}</td>\n",
       "    </tr>\n",
       "    <tr>\n",
       "      <th>5</th>\n",
       "      <td>[Serie]</td>\n",
       "      <td>{'title': 'The Walking Dead', 'year': 2010}</td>\n",
       "    </tr>\n",
       "  </tbody>\n",
       "</table>\n",
       "</div>"
      ],
      "text/plain": [
       "      label                                                n\n",
       "0   [Movie]               {'title': 'Titanic', 'year': 1997}\n",
       "1   [Movie]               {'title': 'Memento', 'year': 2001}\n",
       "2   [Movie]  {'title': 'Inglourious Basterds', 'year': 2009}\n",
       "3  [Person]    {'age': 28, 'surname': 'Doe', 'name': 'Jane'}\n",
       "4  [Person]    {'age': 24, 'surname': 'Doe', 'name': 'John'}\n",
       "5   [Serie]      {'title': 'The Walking Dead', 'year': 2010}"
      ]
     },
     "execution_count": 3,
     "metadata": {},
     "output_type": "execute_result"
    }
   ],
   "source": [
    "from pandas import DataFrame\n",
    "\n",
    "DataFrame(graph.data(\"MATCH n WHERE n:Person OR n:Movie OR n:Serie RETURN n, labels(n) as label order by label[0]\"))"
   ]
  },
  {
   "cell_type": "markdown",
   "metadata": {},
   "source": [
    "Using [Nicole's](https://github.com/nicolewhite) python [script](https://github.com/nicolewhite/neo4j-jupyter/blob/master/scripts/vis.py) for rendering the graph using [Viz](http://visjs.org/).\n"
   ]
  },
  {
   "cell_type": "code",
   "execution_count": 4,
   "metadata": {},
   "outputs": [
    {
     "data": {
      "text/html": [
       "\n",
       "        <iframe\n",
       "            width=\"100%\"\n",
       "            height=\"400\"\n",
       "            src=\"resources/temp/figure/graph-5fe59975-b795-4b92-9978-f27467292111.html\"\n",
       "            frameborder=\"0\"\n",
       "            allowfullscreen\n",
       "        ></iframe>\n",
       "        "
      ],
      "text/plain": [
       "<IPython.lib.display.IFrame at 0x7fd0c4bbe358>"
      ]
     },
     "execution_count": 4,
     "metadata": {},
     "output_type": "execute_result"
    }
   ],
   "source": [
    "from resources.scripts.vis import draw\n",
    "\n",
    "options = {\"Person\": \"name\", \"Movie\": \"title\", \"Serie\": \"title\"}\n",
    "draw(graph, options,  physics=True)"
   ]
  },
  {
   "cell_type": "markdown",
   "metadata": {},
   "source": [
    "### Creating Relationships"
   ]
  },
  {
   "cell_type": "code",
   "execution_count": 5,
   "metadata": {
    "collapsed": true
   },
   "outputs": [],
   "source": [
    "from py2neo import Relationship\n",
    "\n",
    "### Examples of relationships \n",
    "graph.create(Relationship(john, \"IS_MARRIED_WITH\", jane))\n",
    "\n",
    "graph.create(Relationship(john, \"LIKES\", memento))\n",
    "graph.create(Relationship(john, \"LIKES\", twd))\n",
    "graph.create(Relationship(john, \"LIKES\", ib))\n",
    "\n",
    "graph.create(Relationship(jane, \"LIKES\", titanic))\n",
    "graph.create(Relationship(jane, \"LIKES\", twd))\n",
    "\n"
   ]
  },
  {
   "cell_type": "code",
   "execution_count": 6,
   "metadata": {},
   "outputs": [
    {
     "data": {
      "text/html": [
       "\n",
       "        <iframe\n",
       "            width=\"100%\"\n",
       "            height=\"400\"\n",
       "            src=\"resources/temp/figure/graph-d7976d2f-3d0d-4826-a010-9778460c6100.html\"\n",
       "            frameborder=\"0\"\n",
       "            allowfullscreen\n",
       "        ></iframe>\n",
       "        "
      ],
      "text/plain": [
       "<IPython.lib.display.IFrame at 0x7fd0c4bbee10>"
      ]
     },
     "execution_count": 6,
     "metadata": {},
     "output_type": "execute_result"
    }
   ],
   "source": [
    "from resources.scripts.vis import draw\n",
    "\n",
    "draw(graph, options,  physics=False)"
   ]
  },
  {
   "cell_type": "markdown",
   "metadata": {},
   "source": [
    "### Cypher"
   ]
  },
  {
   "cell_type": "code",
   "execution_count": 7,
   "metadata": {},
   "outputs": [
    {
     "name": "stdout",
     "output_type": "stream",
     "text": [
      "('name': 'Jane', 'movie': 'Titanic')\n",
      "('name': 'John', 'movie': 'Inglourious Basterds')\n",
      "('name': 'John', 'movie': 'Memento')\n"
     ]
    }
   ],
   "source": [
    "from pandas import DataFrame\n",
    "\n",
    "\n",
    "query = \"\"\"\n",
    "MATCH (person:Person)-[:LIKES]->(movie:Movie)\n",
    "RETURN person.name AS name, movie.title AS movie\n",
    "\"\"\"\n",
    "\n",
    "data = graph.run(query)\n",
    "\n",
    "for d in data:\n",
    "    print(d)\n",
    "\n"
   ]
  },
  {
   "cell_type": "markdown",
   "metadata": {},
   "source": [
    "### Parameterized Cypher"
   ]
  },
  {
   "cell_type": "code",
   "execution_count": 8,
   "metadata": {},
   "outputs": [
    {
     "name": "stdout",
     "output_type": "stream",
     "text": [
      "('name': 'Jane', 'oldest_movie_liked': 1997)\n",
      "('name': 'John', 'oldest_movie_liked': 2009)\n"
     ]
    }
   ],
   "source": [
    "query = \"\"\"\n",
    "MATCH (person:Person)-[:LIKES]->(movie:Movie)\n",
    "WHERE person.surname = {surname}\n",
    "RETURN person.name AS name, MAX(movie.year) AS oldest_movie_liked\n",
    "\"\"\"\n",
    "\n",
    "data = graph.run(query, surname=\"Doe\")\n",
    "\n",
    "for d in data:\n",
    "    print(d)"
   ]
  },
  {
   "cell_type": "markdown",
   "metadata": {
    "collapsed": true
   },
   "source": [
    "### Using jgraph\n",
    "jgraph plotstuple lists as 3D graphs"
   ]
  },
  {
   "cell_type": "code",
   "execution_count": 9,
   "metadata": {},
   "outputs": [
    {
     "data": {
      "text/html": [
       "<div id=\"graph-88c167fa-873a-4295-b81b-3ca38df2d6cb\"></div>\n",
       "           <script type=\"text/javascript\">\n",
       "           require.config({baseUrl: '/',\n",
       "                             paths: {jgraph: ['nbextensions/jgraph.min', 'https://rawgit.com/patrickfuller/jgraph/master/js/build/jgraph.min']}});\n",
       "           require(['jgraph'], function () {\n",
       "               var $d = $('#graph-88c167fa-873a-4295-b81b-3ca38df2d6cb');\n",
       "               $d.width(600); $d.height(400);\n",
       "               $d.jgraph = jQuery.extend({}, jgraph);\n",
       "               $d.jgraph.create($d, {nodeSize: 2.000000,\n",
       "                                     edgeSize: 0.250000,\n",
       "                                     defaultNodeColor: '0x5bc0de',\n",
       "                                     defaultEdgeColor: '0xaaaaaa',\n",
       "                                     shader: 'basic',\n",
       "                                     z: 100,\n",
       "                                     runOptimization: true,\n",
       "                                     directed: true,\n",
       "                                     showSave: false});\n",
       "               $d.jgraph.draw({\n",
       "    \"edges\": [\n",
       "        { \"source\": 1, \"target\": 2 },\n",
       "        { \"source\": 2, \"target\": 3 },\n",
       "        { \"source\": 3, \"target\": 4 },\n",
       "        { \"source\": 4, \"target\": 1 },\n",
       "        { \"source\": 4, \"target\": 5 },\n",
       "        { \"source\": 5, \"target\": 2 }\n",
       "    ],\n",
       "    \"nodes\": {\n",
       "        \"1\": { \"location\": [ -2.0, -1.982945515166857, -2.0 ] },\n",
       "        \"2\": { \"location\": [ -0.7798218742957898, -1.003525181615614, -1.2434807647416704 ] },\n",
       "        \"3\": { \"location\": [ 0.06343935859646299, -0.015073105292709834, 0.23393173026364025 ] },\n",
       "        \"4\": { \"location\": [ 1.1371653502295758, 1.040220911534593, 0.9453258921748463 ] },\n",
       "        \"5\": { \"location\": [ 1.801196102155441, 1.9613228905405873, 2.0 ] }\n",
       "    }\n",
       "});\n",
       "\n",
       "               $d.resizable({\n",
       "                   aspectRatio: 600 / 400,\n",
       "                   resize: function (evt, ui) {\n",
       "                       $d.jgraph.renderer.setSize(ui.size.width,\n",
       "                                                  ui.size.height);\n",
       "                   }\n",
       "               });\n",
       "           });\n",
       "           </script>"
      ],
      "text/plain": [
       "<IPython.core.display.HTML object>"
      ]
     },
     "metadata": {},
     "output_type": "display_data"
    },
    {
     "data": {
      "text/html": [
       "<div id=\"graph-8c698719-5478-4daf-b9ff-a23b8719b146\"></div>\n",
       "           <script type=\"text/javascript\">\n",
       "           require.config({baseUrl: '/',\n",
       "                             paths: {jgraph: ['nbextensions/jgraph.min', 'https://rawgit.com/patrickfuller/jgraph/master/js/build/jgraph.min']}});\n",
       "           require(['jgraph'], function () {\n",
       "               var $d = $('#graph-8c698719-5478-4daf-b9ff-a23b8719b146');\n",
       "               $d.width(600); $d.height(400);\n",
       "               $d.jgraph = jQuery.extend({}, jgraph);\n",
       "               $d.jgraph.create($d, {nodeSize: 2.000000,\n",
       "                                     edgeSize: 0.250000,\n",
       "                                     defaultNodeColor: '0x5bc0de',\n",
       "                                     defaultEdgeColor: '0xaaaaaa',\n",
       "                                     shader: 'basic',\n",
       "                                     z: 100,\n",
       "                                     runOptimization: true,\n",
       "                                     directed: true,\n",
       "                                     showSave: false});\n",
       "               $d.jgraph.draw({\n",
       "    \"edges\": [\n",
       "        { \"source\": 3516, \"target\": 3515 },\n",
       "        { \"source\": 3516, \"target\": 3514 },\n",
       "        { \"source\": 3517, \"target\": 3519 },\n",
       "        { \"source\": 3517, \"target\": 3515 },\n",
       "        { \"source\": 3517, \"target\": 3518 },\n",
       "        { \"source\": 3517, \"target\": 3516 }\n",
       "    ],\n",
       "    \"nodes\": {\n",
       "        \"3514\": { \"location\": [ -2.0, -2.0, -2.0 ] },\n",
       "        \"3515\": { \"location\": [ -1.9172816921083962, -1.6140952325141016, -1.9533683328415044 ] },\n",
       "        \"3516\": { \"location\": [ -0.6444674724318739, -0.6409638434435554, -0.7277306108616426 ] },\n",
       "        \"3517\": { \"location\": [ 0.5243456931169164, 0.8438987241902521, 0.5035654393882069 ] },\n",
       "        \"3518\": { \"location\": [ 1.7998953741746744, 1.572075861089041, 1.470114078981274 ] },\n",
       "        \"3519\": { \"location\": [ 2.0, 2.0, 2.0 ] }\n",
       "    }\n",
       "});\n",
       "\n",
       "               $d.resizable({\n",
       "                   aspectRatio: 600 / 400,\n",
       "                   resize: function (evt, ui) {\n",
       "                       $d.jgraph.renderer.setSize(ui.size.width,\n",
       "                                                  ui.size.height);\n",
       "                   }\n",
       "               });\n",
       "           });\n",
       "           </script>"
      ],
      "text/plain": [
       "<IPython.core.display.HTML object>"
      ]
     },
     "metadata": {},
     "output_type": "display_data"
    }
   ],
   "source": [
    "import jgraph\n",
    "\n",
    "# Produce tuple lists and jgrap will render it\n",
    "jgraph.draw([(1, 2), (2, 3), (3, 4), (4, 1), (4, 5), (5, 2)])\n",
    "\n",
    "data = graph.run(\"MATCH (n)-->(m) RETURN ID(n), ID(m)\")\n",
    "data = [tuple(x) for x in data]\n",
    "\n",
    "jgraph.draw(data)\n",
    "\n"
   ]
  },
  {
   "cell_type": "code",
   "execution_count": null,
   "metadata": {
    "collapsed": true
   },
   "outputs": [],
   "source": []
  }
 ],
 "metadata": {
  "kernelspec": {
   "display_name": "Python 3",
   "language": "python",
   "name": "python3"
  },
  "language_info": {
   "codemirror_mode": {
    "name": "ipython",
    "version": 3
   },
   "file_extension": ".py",
   "mimetype": "text/x-python",
   "name": "python",
   "nbconvert_exporter": "python",
   "pygments_lexer": "ipython3",
   "version": "3.5.2"
  }
 },
 "nbformat": 4,
 "nbformat_minor": 2
}
