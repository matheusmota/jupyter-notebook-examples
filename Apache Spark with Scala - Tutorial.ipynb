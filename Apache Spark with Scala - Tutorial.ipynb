{
 "cells": [
  {
   "cell_type": "markdown",
   "metadata": {
    "collapsed": true
   },
   "source": [
    "# Apache Spark with Scala\n",
    "\n",
    "More details and magic commands here: https://github.com/apache/incubator-toree/blob/master/etc/examples/notebooks/magic-tutorial.ipynb\n"
   ]
  },
  {
   "cell_type": "markdown",
   "metadata": {
    "collapsed": true
   },
   "source": [
    "http://apachesparkbook.blogspot.com.br\n"
   ]
  },
  {
   "cell_type": "markdown",
   "metadata": {
    "collapsed": true
   },
   "source": [
    "# RDD: Basics\n",
    "An RDD is the basic unit of data in Spark, upon which all operations are performed. \n",
    "RDDs are intermediate results stored in Memory and are Partitioned to be operated on multiple nodes in the Cluster.\n",
    "\n",
    "An RDD Operation can be either be actions or transformations\n",
    "Action returns result to the Driver Program or write it to the Storage. An action normally starts a Computation to provide result and always return some other data type other than RDD. Transformation returns Pointer to new RDD"
   ]
  },
  {
   "cell_type": "code",
   "execution_count": null,
   "metadata": {
    "collapsed": true
   },
   "outputs": [],
   "source": []
  },
  {
   "cell_type": "code",
   "execution_count": 2,
   "metadata": {
    "collapsed": true
   },
   "outputs": [],
   "source": [
    "val rdd = sc.parallelize(Seq(\n",
    "     |                       (\"math\",    55),\n",
    "     |                       (\"math\",    56),\n",
    "     |                       (\"english\", 57),\n",
    "     |                       (\"english\", 58),\n",
    "     |                       (\"english\", 12),\n",
    "     |                       (\"science\", 59),\n",
    "     |                       (\"science\", 54),\n",
    "     |                (\"science\", 59),\n",
    "     |                (\"science\", 54))\n",
    ")"
   ]
  },
  {
   "cell_type": "code",
   "execution_count": 1,
   "metadata": {},
   "outputs": [
    {
     "data": {
      "text/plain": [
       "Array((math,55), (math,56), (english,57), (english,58), (science,59), (science,54))"
      ]
     },
     "execution_count": 1,
     "metadata": {},
     "output_type": "execute_result"
    }
   ],
   "source": [
    "rdd.collect()"
   ]
  },
  {
   "cell_type": "code",
   "execution_count": 3,
   "metadata": {},
   "outputs": [
    {
     "data": {
      "text/plain": [
       "6"
      ]
     },
     "execution_count": 3,
     "metadata": {},
     "output_type": "execute_result"
    }
   ],
   "source": [
    "rdd.count()"
   ]
  },
  {
   "cell_type": "code",
   "execution_count": 7,
   "metadata": {},
   "outputs": [
    {
     "data": {
      "text/plain": [
       "(math,55)"
      ]
     },
     "execution_count": 7,
     "metadata": {},
     "output_type": "execute_result"
    }
   ],
   "source": [
    "rdd.first()"
   ]
  },
  {
   "cell_type": "code",
   "execution_count": 6,
   "metadata": {},
   "outputs": [
    {
     "data": {
      "text/plain": [
       "Array((math,55), (math,56))"
      ]
     },
     "execution_count": 6,
     "metadata": {},
     "output_type": "execute_result"
    }
   ],
   "source": [
    "rdd.take(2)"
   ]
  },
  {
   "cell_type": "code",
   "execution_count": 11,
   "metadata": {},
   "outputs": [
    {
     "data": {
      "text/plain": [
       "Array((science,54), (science,59), (math,55))"
      ]
     },
     "execution_count": 11,
     "metadata": {},
     "output_type": "execute_result"
    }
   ],
   "source": [
    "//ordered by key\n",
    "rdd.takeOrdered(3) "
   ]
  },
  {
   "cell_type": "code",
   "execution_count": 1,
   "metadata": {},
   "outputs": [
    {
     "data": {
      "text/plain": [
       "Map(english -> 2, science -> 2, math -> 2)"
      ]
     },
     "execution_count": 1,
     "metadata": {},
     "output_type": "execute_result"
    }
   ],
   "source": [
    "rdd.countByKey()"
   ]
  },
  {
   "cell_type": "markdown",
   "metadata": {},
   "source": [
    "## RDD Basics: Actions\n",
    "https://spark.apache.org/docs/latest/rdd-programming-guide.html#actions"
   ]
  },
  {
   "cell_type": "markdown",
   "metadata": {},
   "source": [
    "## sortByKey - Ascending order"
   ]
  },
  {
   "cell_type": "code",
   "execution_count": 5,
   "metadata": {},
   "outputs": [
    {
     "data": {
      "text/plain": [
       "Array((english,57), (english,58), (math,55), (math,56), (science,59), (science,54))"
      ]
     },
     "execution_count": 5,
     "metadata": {},
     "output_type": "execute_result"
    }
   ],
   "source": [
    "val sorted1 = rdd.sortByKey()\n",
    "sorted1.collect()"
   ]
  },
  {
   "cell_type": "markdown",
   "metadata": {},
   "source": [
    "## sortByKey - Descending order"
   ]
  },
  {
   "cell_type": "code",
   "execution_count": 7,
   "metadata": {},
   "outputs": [
    {
     "data": {
      "text/plain": [
       "Array((science,59), (science,54), (math,55), (math,56), (english,57), (english,58))"
      ]
     },
     "execution_count": 7,
     "metadata": {},
     "output_type": "execute_result"
    }
   ],
   "source": [
    "val sorted2 = rdd.sortByKey(false)\n",
    "sorted2.collect()"
   ]
  },
  {
   "cell_type": "markdown",
   "metadata": {},
   "source": [
    "## sortByKey - Custom order\n",
    "\n",
    "Defines an implicit sorting for the method sortByKey().\n",
    "\n",
    "We use '{' here to limit the scope of the implicit ordering"
   ]
  },
  {
   "cell_type": "code",
   "execution_count": 12,
   "metadata": {},
   "outputs": [
    {
     "data": {
      "text/plain": [
       "Array((english,57), (english,58), (math,55), (math,56), (science,59), (science,54))"
      ]
     },
     "execution_count": 12,
     "metadata": {},
     "output_type": "execute_result"
    }
   ],
   "source": [
    "{\n",
    "implicit val sortIntegersByString = new Ordering[String] {\n",
    "     override def compare(a: String, b: String) = {val result = a.compare(b) \n",
    "                                                   result\n",
    "                                                  }\n",
    "     }\n",
    "\n",
    "val sorted3 = rdd.sortByKey()\n",
    "sorted3.collect()\n",
    "}\n",
    "\n"
   ]
  },
  {
   "cell_type": "code",
   "execution_count": null,
   "metadata": {
    "collapsed": true
   },
   "outputs": [],
   "source": []
  },
  {
   "cell_type": "markdown",
   "metadata": {},
   "source": [
    "## Now let's run the object ..."
   ]
  },
  {
   "cell_type": "code",
   "execution_count": 5,
   "metadata": {
    "scrolled": true
   },
   "outputs": [
    {
     "name": "stdout",
     "output_type": "stream",
     "text": [
      "TEXT1\n",
      "said=456\n",
      "alice=377\n",
      "that=234\n",
      "with=172\n",
      "very=139\n",
      "TEXT2\n",
      "vibrating=1\n",
      "young=10\n",
      "stumbled=8\n",
      "intimately=1\n",
      "someone=1\n",
      "COMMON\n",
      "little\n",
      "said\n",
      "that\n",
      "they\n",
      "this\n",
      "with\n",
      "Time elapsed: 8 seconds\n"
     ]
    }
   ],
   "source": [
    "val files = Array(\"./resources/data/input1.txt\", \"./resources/data/input2.txt\")\n",
    "\n",
    "val myAnaliser = new Analiser\n",
    "\n",
    "myAnaliser.main(files)"
   ]
  },
  {
   "cell_type": "markdown",
   "metadata": {},
   "source": [
    "## Desired Output:  \n",
    "TEXT1  \n",
    "said=456  \n",
    "alice=377  \n",
    "that=234  \n",
    "with=172  \n",
    "very=139  \n",
    "TEXT2  \n",
    "that=759  \n",
    "with=448  \n",
    "were=365  \n",
    "from=326  \n",
    "they=302  \n",
    "COMMON  \n",
    "little  \n",
    "said  \n",
    "that  \n",
    "they  \n",
    "this  \n",
    "with  \n"
   ]
  },
  {
   "cell_type": "code",
   "execution_count": null,
   "metadata": {
    "collapsed": true
   },
   "outputs": [],
   "source": []
  }
 ],
 "metadata": {
  "kernelspec": {
   "display_name": "Apache Toree - Scala",
   "language": "scala",
   "name": "apache_toree_scala"
  },
  "language_info": {
   "file_extension": ".scala",
   "name": "scala",
   "version": "2.11.8"
  }
 },
 "nbformat": 4,
 "nbformat_minor": 2
}
