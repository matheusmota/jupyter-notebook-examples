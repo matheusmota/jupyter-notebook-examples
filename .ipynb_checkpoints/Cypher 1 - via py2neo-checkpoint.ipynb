{
 "cells": [
  {
   "cell_type": "markdown",
   "metadata": {},
   "source": [
    "# Using py2neo to work with neo4j\n",
    "\n",
    "Py2neo is a client library/toolkit for working with Neo4j with Python. \n",
    "This notebook exemplificates several aspects of the library. \n",
    "\n",
    "The complete documentation can be found here: http://py2neo.org/v3/"
   ]
  },
  {
   "cell_type": "markdown",
   "metadata": {},
   "source": [
    "### Connecting to a neo4j database instance\n",
    "\n",
    "More details at: http://py2neo.org/v3/database.html#the-graph"
   ]
  },
  {
   "cell_type": "code",
   "execution_count": 1,
   "metadata": {
    "scrolled": true
   },
   "outputs": [
    {
     "name": "stdout",
     "output_type": "stream",
     "text": [
      "Connected\n",
      "<Graph uri='http://neo4j.lis.ic.unicamp.br:80/db/data/'>\n"
     ]
    }
   ],
   "source": [
    "from py2neo import Graph\n",
    "\n",
    "### Using default parameters -- localhost:7474 no login/passwd required\n",
    "#graph = Graph()\n",
    "\n",
    "### Using url only (the notation \"http://<host>:<port>\" is mandatory)\n",
    "#graph = Graph(\"http://localhost:7474/db/data/\")\n",
    "#graph = Graph(\"http://neo4j.lis.ic.unicamp.br:80/db/data/\")\n",
    "\n",
    "### http \n",
    "#graph = Graph(host =\"localhost\", http_port = 7474)\n",
    "#graph = Graph(\"http://neo4j.lis.ic.unicamp.br:80/db/data/\")\n",
    "\n",
    "### https\n",
    "#graph = Graph(host =\"localhost\", http_port = 7473)\n",
    "#graph = Graph(\"http://neo4j.lis.ic.unicamp.br:443/db/data/\")\n",
    "\n",
    "### authentication \n",
    "#graph = Graph(host = \"localhost\", http_port = 7474, user=\"neo4j\", password=\"123\")\n",
    "\n",
    "### For neo4j's new Bolt binary protocol (available in Neo4j 3.0+) see the documentation link \n",
    "\n",
    "### My parameters\n",
    "#graph = Graph(\"http://neo4j.lis.ic.unicamp.br:80/db/data/\", )\n",
    "graph = Graph(host = \"neo4j.lis.ic.unicamp.br\", http_port = 80, bolt = False,  secure = False)\n",
    "\n",
    "\n",
    "if(graph):\n",
    "    print (\"Connected\")\n",
    "    print (graph)\n",
    "\n",
    "graph.begin(autocommit=True)\n",
    "graph.delete_all()"
   ]
  },
  {
   "cell_type": "markdown",
   "metadata": {},
   "source": [
    "### Creating Nodes"
   ]
  },
  {
   "cell_type": "code",
   "execution_count": 2,
   "metadata": {},
   "outputs": [],
   "source": [
    "from py2neo import Node\n",
    "\n",
    "### Examples of nodes labeled as Person\n",
    "john = Node(\"Person\", name=\"John\", surname=\"Doe\", age=24)\n",
    "jane = Node(\"Person\", name=\"Jane\", surname=\"Doe\", age=28)\n",
    "\n",
    "### Examples of nodes labeled as Movie\n",
    "memento = Node(\"Movie\", title=\"Memento\", year=2001)\n",
    "ib      = Node(\"Movie\", title=\"Inglourious Basterds\", year=2009)\n",
    "titanic = Node(\"Movie\", title=\"Titanic\", year=1997)\n",
    "\n",
    "### Examples of nodes labeled as Serie\n",
    "twd = Node(\"Serie\", title=\"The Walking Dead\", year=2010)\n",
    "\n",
    "### Creatin/persisting the nodes\n",
    "graph.create(john | jane | memento | ib | titanic | twd)"
   ]
  },
  {
   "cell_type": "markdown",
   "metadata": {},
   "source": [
    "Using Pandas to retrieve the created nodes"
   ]
  },
  {
   "cell_type": "code",
   "execution_count": 10,
   "metadata": {},
   "outputs": [
    {
     "ename": "TypeError",
     "evalue": "data argument can't be an iterator",
     "output_type": "error",
     "traceback": [
      "\u001b[0;31m---------------------------------------------------------------------------\u001b[0m",
      "\u001b[0;31mTypeError\u001b[0m                                 Traceback (most recent call last)",
      "\u001b[0;32m<ipython-input-10-846ae664ce27>\u001b[0m in \u001b[0;36m<module>\u001b[0;34m()\u001b[0m\n\u001b[1;32m      1\u001b[0m \u001b[0;32mfrom\u001b[0m \u001b[0mpandas\u001b[0m \u001b[0;32mimport\u001b[0m \u001b[0mDataFrame\u001b[0m\u001b[0;34m\u001b[0m\u001b[0m\n\u001b[1;32m      2\u001b[0m \u001b[0;34m\u001b[0m\u001b[0m\n\u001b[0;32m----> 3\u001b[0;31m \u001b[0mDataFrame\u001b[0m\u001b[0;34m(\u001b[0m\u001b[0mgraph\u001b[0m\u001b[0;34m.\u001b[0m\u001b[0mrun\u001b[0m\u001b[0;34m(\u001b[0m\u001b[0;34m\"MATCH n WHERE n:Person OR n:Movie OR n:Serie RETURN n, labels(n) as label order by label[0]\"\u001b[0m\u001b[0;34m)\u001b[0m\u001b[0;34m)\u001b[0m\u001b[0;34m\u001b[0m\u001b[0m\n\u001b[0m",
      "\u001b[0;32m/usr/local/lib/python3.5/dist-packages/pandas/core/frame.py\u001b[0m in \u001b[0;36m__init__\u001b[0;34m(self, data, index, columns, dtype, copy)\u001b[0m\n\u001b[1;32m    332\u001b[0m                 \u001b[0mmgr\u001b[0m \u001b[0;34m=\u001b[0m \u001b[0mself\u001b[0m\u001b[0;34m.\u001b[0m\u001b[0m_init_dict\u001b[0m\u001b[0;34m(\u001b[0m\u001b[0;34m{\u001b[0m\u001b[0;34m}\u001b[0m\u001b[0;34m,\u001b[0m \u001b[0mindex\u001b[0m\u001b[0;34m,\u001b[0m \u001b[0mcolumns\u001b[0m\u001b[0;34m,\u001b[0m \u001b[0mdtype\u001b[0m\u001b[0;34m=\u001b[0m\u001b[0mdtype\u001b[0m\u001b[0;34m)\u001b[0m\u001b[0;34m\u001b[0m\u001b[0m\n\u001b[1;32m    333\u001b[0m         \u001b[0;32melif\u001b[0m \u001b[0misinstance\u001b[0m\u001b[0;34m(\u001b[0m\u001b[0mdata\u001b[0m\u001b[0;34m,\u001b[0m \u001b[0mcollections\u001b[0m\u001b[0;34m.\u001b[0m\u001b[0mIterator\u001b[0m\u001b[0;34m)\u001b[0m\u001b[0;34m:\u001b[0m\u001b[0;34m\u001b[0m\u001b[0m\n\u001b[0;32m--> 334\u001b[0;31m             \u001b[0;32mraise\u001b[0m \u001b[0mTypeError\u001b[0m\u001b[0;34m(\u001b[0m\u001b[0;34m\"data argument can't be an iterator\"\u001b[0m\u001b[0;34m)\u001b[0m\u001b[0;34m\u001b[0m\u001b[0m\n\u001b[0m\u001b[1;32m    335\u001b[0m         \u001b[0;32melse\u001b[0m\u001b[0;34m:\u001b[0m\u001b[0;34m\u001b[0m\u001b[0m\n\u001b[1;32m    336\u001b[0m             \u001b[0;32mtry\u001b[0m\u001b[0;34m:\u001b[0m\u001b[0;34m\u001b[0m\u001b[0m\n",
      "\u001b[0;31mTypeError\u001b[0m: data argument can't be an iterator"
     ]
    }
   ],
   "source": [
    "from pandas import DataFrame\n",
    "\n",
    "DataFrame(graph.data(\"MATCH n WHERE n:Person OR n:Movie OR n:Serie RETURN n, labels(n) as label order by label[0]\"))"
   ]
  },
  {
   "cell_type": "markdown",
   "metadata": {},
   "source": [
    "Using [Nicole's](https://github.com/nicolewhite) python [script](https://github.com/nicolewhite/neo4j-jupyter/blob/master/scripts/vis.py) for rendering the graph using [Viz](http://visjs.org/).\n"
   ]
  },
  {
   "cell_type": "code",
   "execution_count": 4,
   "metadata": {},
   "outputs": [
    {
     "data": {
      "text/html": [
       "\n",
       "        <iframe\n",
       "            width=\"100%\"\n",
       "            height=\"400\"\n",
       "            src=\"resources/temp/figure/graph-8177cafa-e07e-452a-a8bd-e0c2db3f1169.html\"\n",
       "            frameborder=\"0\"\n",
       "            allowfullscreen\n",
       "        ></iframe>\n",
       "        "
      ],
      "text/plain": [
       "<IPython.lib.display.IFrame at 0x7f6b851f2cc0>"
      ]
     },
     "execution_count": 4,
     "metadata": {},
     "output_type": "execute_result"
    }
   ],
   "source": [
    "from resources.scripts.vis import draw\n",
    "\n",
    "options = {\"Person\": \"name\", \"Movie\": \"title\", \"Serie\": \"title\"}\n",
    "draw(graph, options,  physics=True)"
   ]
  },
  {
   "cell_type": "markdown",
   "metadata": {},
   "source": [
    "### Creating Relationships"
   ]
  },
  {
   "cell_type": "code",
   "execution_count": 5,
   "metadata": {},
   "outputs": [],
   "source": [
    "from py2neo import Relationship\n",
    "\n",
    "### Examples of relationships \n",
    "graph.create(Relationship(john, \"IS_MARRIED_WITH\", jane))\n",
    "\n",
    "graph.create(Relationship(john, \"LIKES\", memento))\n",
    "graph.create(Relationship(john, \"LIKES\", twd))\n",
    "graph.create(Relationship(john, \"LIKES\", ib))\n",
    "\n",
    "graph.create(Relationship(jane, \"LIKES\", titanic))\n",
    "graph.create(Relationship(jane, \"LIKES\", twd))\n",
    "\n"
   ]
  },
  {
   "cell_type": "code",
   "execution_count": 6,
   "metadata": {},
   "outputs": [
    {
     "data": {
      "text/html": [
       "\n",
       "        <iframe\n",
       "            width=\"100%\"\n",
       "            height=\"400\"\n",
       "            src=\"resources/temp/figure/graph-a0dd46a6-fc56-4e55-ab3d-4f56e4284090.html\"\n",
       "            frameborder=\"0\"\n",
       "            allowfullscreen\n",
       "        ></iframe>\n",
       "        "
      ],
      "text/plain": [
       "<IPython.lib.display.IFrame at 0x7f6b84901b00>"
      ]
     },
     "execution_count": 6,
     "metadata": {},
     "output_type": "execute_result"
    }
   ],
   "source": [
    "from resources.scripts.vis import draw\n",
    "\n",
    "draw(graph, options,  physics=False)"
   ]
  },
  {
   "cell_type": "markdown",
   "metadata": {},
   "source": [
    "### Cypher"
   ]
  },
  {
   "cell_type": "code",
   "execution_count": 11,
   "metadata": {},
   "outputs": [
    {
     "name": "stdout",
     "output_type": "stream",
     "text": [
      "('name': 'Jane', 'movie': 'Titanic')\n",
      "('name': 'John', 'movie': 'Inglourious Basterds')\n",
      "('name': 'John', 'movie': 'Memento')\n"
     ]
    }
   ],
   "source": [
    "from pandas import DataFrame\n",
    "\n",
    "\n",
    "query = \"\"\"\n",
    "MATCH (person:Person)-[:LIKES]->(movie:Movie)\n",
    "RETURN person.name AS name, movie.title AS movie\n",
    "\"\"\"\n",
    "\n",
    "data = graph.run(query)\n",
    "\n",
    "for d in data:\n",
    "    print(d)\n",
    "\n"
   ]
  },
  {
   "cell_type": "markdown",
   "metadata": {},
   "source": [
    "### Parameterized Cypher"
   ]
  },
  {
   "cell_type": "code",
   "execution_count": 15,
   "metadata": {},
   "outputs": [],
   "source": [
    "query = \"\"\"\n",
    "MATCH (person:Person)-[:LIKES]->(movie:Movie)\n",
    "WHERE person.surname = {surname}\n",
    "RETURN person.name AS name, AVG(movie.year) AS avg_calories\n",
    "\"\"\"\n",
    "\n",
    "data = graph.run(query, surname=\"John\")\n",
    "\n",
    "for d in data:\n",
    "    print(d)"
   ]
  },
  {
   "cell_type": "code",
   "execution_count": null,
   "metadata": {
    "collapsed": true
   },
   "outputs": [],
   "source": []
  },
  {
   "cell_type": "code",
   "execution_count": null,
   "metadata": {
    "collapsed": true
   },
   "outputs": [],
   "source": []
  },
  {
   "cell_type": "code",
   "execution_count": null,
   "metadata": {
    "collapsed": true
   },
   "outputs": [],
   "source": []
  }
 ],
 "metadata": {
  "kernelspec": {
   "display_name": "Python 3",
   "language": "python",
   "name": "python3"
  },
  "language_info": {
   "codemirror_mode": {
    "name": "ipython",
    "version": 3
   },
   "file_extension": ".py",
   "mimetype": "text/x-python",
   "name": "python",
   "nbconvert_exporter": "python",
   "pygments_lexer": "ipython3",
   "version": "3.5.2"
  }
 },
 "nbformat": 4,
 "nbformat_minor": 2
}
