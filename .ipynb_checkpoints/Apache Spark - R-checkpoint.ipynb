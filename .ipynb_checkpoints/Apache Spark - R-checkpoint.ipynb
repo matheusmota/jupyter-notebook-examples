{
 "cells": [
  {
   "cell_type": "code",
   "execution_count": null,
   "metadata": {
    "collapsed": true
   },
   "outputs": [],
   "source": []
  },
  {
   "cell_type": "code",
   "execution_count": 2,
   "metadata": {},
   "outputs": [
    {
     "name": "stdout",
     "output_type": "stream",
     "text": [
      "Loading required package: methods\n"
     ]
    },
    {
     "data": {
      "text/plain": [
       "Magic SparkR failed to execute with error: \n",
       "null was reset!"
      ]
     },
     "execution_count": 2,
     "metadata": {},
     "output_type": "execute_result"
    },
    {
     "name": "stdout",
     "output_type": "stream",
     "text": [
      "\n",
      "Attaching package: ‘SparkR’\n",
      "\n",
      "The following objects are masked from ‘package:stats’:\n",
      "\n",
      "    cov, filter, lag, na.omit, predict, sd, var, window\n",
      "\n",
      "The following objects are masked from ‘package:base’:\n",
      "\n",
      "    as.data.frame, colnames, colnames<-, drop, intersect, rank, rbind,\n",
      "    sample, subset, summary, transform, union\n",
      "\n",
      "Warning message:\n",
      "In rm(\".sparkRcon\", envir = .sparkREnv) : object '.sparkRcon' not found\n",
      "[1] \"ExistingPort:\" \"46094\"        \n",
      "Error in value[[3L]](cond) : \n",
      "  Failed to connect JVM: Error in socketConnection(host = hostname, port = port, server = FALSE, : argument \"timeout\" is missing, with no default\n",
      "Calls: sparkR.connect ... tryCatch -> tryCatchList -> tryCatchOne -> <Anonymous>\n",
      "Execution halted\n"
     ]
    }
   ],
   "source": [
    "%%SparkR\n",
    "df <- createDataFrame(spark, faithful)\n",
    "head(df)"
   ]
  }
 ],
 "metadata": {
  "kernelspec": {
   "display_name": "Apache Toree - Scala",
   "language": "scala",
   "name": "apache_toree_scala"
  },
  "language_info": {
   "file_extension": ".scala",
   "name": "scala",
   "version": "2.11.8"
  }
 },
 "nbformat": 4,
 "nbformat_minor": 2
}
