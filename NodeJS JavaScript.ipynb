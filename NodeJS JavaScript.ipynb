{
 "cells": [
  {
   "cell_type": "markdown",
   "metadata": {},
   "source": [
    "# OO\n"
   ]
  },
  {
   "cell_type": "code",
   "execution_count": null,
   "metadata": {},
   "outputs": [],
   "source": [
    "var x = class Person {\n",
    "\n",
    "        //Não funciona\n",
    "        //nome = \"\";\n",
    "  \n",
    "        constructor(name){\n",
    "        \n",
    "            this.name = name;\n",
    "        }\n",
    "        \n",
    "        printName(){\n",
    "            \n",
    "            console.log('Meu nome é: ' + this.name);\n",
    "        }   \n",
    "    \n",
    "       *printNameGenerator(){\n",
    "            console.log('Com generator: Meu nome é: ' + this.name);\n",
    "        }   \n",
    "}"
   ]
  },
  {
   "cell_type": "code",
   "execution_count": null,
   "metadata": {
    "collapsed": true
   },
   "outputs": [],
   "source": [
    "var person1 = new Person(\"John Doe\");\n",
    "var person2 = new Person(\"Bob Silva\");"
   ]
  },
  {
   "cell_type": "code",
   "execution_count": null,
   "metadata": {},
   "outputs": [],
   "source": [
    "person1.printName();\n",
    "person2.printName();\n"
   ]
  },
  {
   "cell_type": "code",
   "execution_count": null,
   "metadata": {},
   "outputs": [],
   "source": [
    "person1.printNameGenerator();\n",
    "person2.printNameGenerator();\n"
   ]
  },
  {
   "cell_type": "code",
   "execution_count": null,
   "metadata": {},
   "outputs": [],
   "source": [
    "console.log(\"hello\") ;\n",
    "var o = setTimeout(function() {console.log(\"And good bye!\");},2000);"
   ]
  },
  {
   "cell_type": "code",
   "execution_count": null,
   "metadata": {},
   "outputs": [],
   "source": [
    "console.log(\"hello\") ;\n",
    "var o = setTimeout(person1.printName,1000);\n",
    "console.log(\"And good bye!\");"
   ]
  },
  {
   "cell_type": "code",
   "execution_count": null,
   "metadata": {},
   "outputs": [],
   "source": [
    "console.log(\"hello\") ;\n",
    "setTimeout(person1.printNameGenerator,1000);\n",
    "console.log(\"And good bye!\");"
   ]
  },
  {
   "cell_type": "code",
   "execution_count": null,
   "metadata": {},
   "outputs": [],
   "source": [
    "var foo = function *foo() {\n",
    "    var x = 1 + (yield \"foo\");\n",
    "    console.log(x);\n",
    "}\n",
    "foo();"
   ]
  },
  {
   "cell_type": "code",
   "execution_count": null,
   "metadata": {},
   "outputs": [],
   "source": [
    "function *foo() {\n",
    "\n",
    "    var x = 1 + (yield \"foo\");\n",
    "    console.log(x);\n",
    "}\n",
    "foo();"
   ]
  },
  {
   "cell_type": "markdown",
   "metadata": {},
   "source": [
    "## Asyncronous"
   ]
  },
  {
   "cell_type": "code",
   "execution_count": null,
   "metadata": {
    "collapsed": true
   },
   "outputs": [],
   "source": [
    "function countTo(number, milliseconds) {\n",
    "    var counter = function() {\n",
    "        console.log(counter._n++);\n",
    "        \n",
    "        if (counter._n > number) {\n",
    "            clearInterval(counter._intervalObject);\n",
    "            console.warn(\"Done!\");\n",
    "        }\n",
    "    };\n",
    "    counter._n = 1;\n",
    "    counter._intervalObject = setInterval(counter, milliseconds);\n",
    "}\n",
    "\n",
    "countTo(5, 1000);"
   ]
  },
  {
   "cell_type": "code",
   "execution_count": null,
   "metadata": {},
   "outputs": [],
   "source": [
    "$$async$$ = true;\n",
    "\n",
    "console.log(\"Hello!\");\n",
    "\n",
    "setTimeout(\n",
    "    function() {\n",
    "        $$done$$(\"And good bye!\");\n",
    "    },\n",
    "    1000\n",
    ");"
   ]
  }
 ],
 "metadata": {
  "kernelspec": {
   "display_name": "Javascript (Node.js)",
   "language": "javascript",
   "name": "ijavascript"
  },
  "language_info": {
   "file_extension": ".js",
   "mimetype": "application/javascript",
   "name": "javascript",
   "version": "4.2.6"
  }
 },
 "nbformat": 4,
 "nbformat_minor": 2
}
