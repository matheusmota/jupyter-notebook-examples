{
 "cells": [
  {
   "cell_type": "markdown",
   "metadata": {},
   "source": [
    "# OO\n"
   ]
  },
  {
   "cell_type": "code",
   "execution_count": 32,
   "metadata": {
    "collapsed": false
   },
   "outputs": [
    {
     "data": {
      "text/plain": [
       "[Function: Person]"
      ]
     },
     "execution_count": 32,
     "metadata": {},
     "output_type": "execute_result"
    }
   ],
   "source": [
    "class Person {\n",
    "\n",
    "        //Não funciona\n",
    "        //nome = \"\";\n",
    "  \n",
    "        constructor(name){\n",
    "        \n",
    "            this.name = name;\n",
    "        }\n",
    "        \n",
    "        printName(){\n",
    "            \n",
    "            console.log('Meu nome é: ' + this.name);\n",
    "        }   \n",
    "    \n",
    "       *printNameGenerator(){\n",
    "            yield console.log('Com generator: Meu nome é: ' + this.name);\n",
    "        }   \n",
    "}"
   ]
  },
  {
   "cell_type": "code",
   "execution_count": 24,
   "metadata": {
    "collapsed": false
   },
   "outputs": [],
   "source": [
    "var person1 = new Person(\"John Doe\");\n",
    "var person2 = new Person(\"Bob Silva\");"
   ]
  },
  {
   "cell_type": "code",
   "execution_count": 25,
   "metadata": {
    "collapsed": false
   },
   "outputs": [
    {
     "name": "stdout",
     "output_type": "stream",
     "text": [
      "Meu nome é: John Doe\n",
      "Meu nome é: Bob Silva\n"
     ]
    }
   ],
   "source": [
    "person1.printName();\n",
    "person2.printName();\n"
   ]
  },
  {
   "cell_type": "code",
   "execution_count": 26,
   "metadata": {
    "collapsed": false
   },
   "outputs": [
    {
     "data": {
      "text/plain": [
       "{}"
      ]
     },
     "execution_count": 26,
     "metadata": {},
     "output_type": "execute_result"
    }
   ],
   "source": [
    "person1.printNameGenerator();\n",
    "person2.printNameGenerator();\n"
   ]
  },
  {
   "cell_type": "code",
   "execution_count": 27,
   "metadata": {
    "collapsed": false
   },
   "outputs": [
    {
     "name": "stdout",
     "output_type": "stream",
     "text": [
      "hello\n",
      "And good bye!\n"
     ]
    }
   ],
   "source": [
    "console.log(\"hello\") ;\n",
    "var o = setTimeout(function() {console.log(\"And good bye!\");},2000);"
   ]
  },
  {
   "cell_type": "code",
   "execution_count": 28,
   "metadata": {
    "collapsed": false
   },
   "outputs": [
    {
     "name": "stdout",
     "output_type": "stream",
     "text": [
      "hello\n",
      "And good bye!\n",
      "Meu nome é: undefined\n"
     ]
    }
   ],
   "source": [
    "console.log(\"hello\") ;\n",
    "var o = setTimeout(person1.printName,1000);\n",
    "console.log(\"And good bye!\");"
   ]
  },
  {
   "cell_type": "code",
   "execution_count": 30,
   "metadata": {
    "collapsed": false
   },
   "outputs": [
    {
     "name": "stdout",
     "output_type": "stream",
     "text": [
      "hello\n",
      "And good bye!\n"
     ]
    }
   ],
   "source": [
    "console.log(\"hello\") ;\n",
    "setTimeout(person1.printNameGenerator,1000);\n",
    "console.log(\"And good bye!\");"
   ]
  },
  {
   "cell_type": "code",
   "execution_count": 31,
   "metadata": {
    "collapsed": false
   },
   "outputs": [
    {
     "data": {
      "text/plain": [
       "{}"
      ]
     },
     "execution_count": 31,
     "metadata": {},
     "output_type": "execute_result"
    }
   ],
   "source": [
    "var foo = function *foo() {\n",
    "    var x = 1 + (yield \"foo\");\n",
    "    console.log(x);\n",
    "}\n",
    "foo();"
   ]
  },
  {
   "cell_type": "code",
   "execution_count": 9,
   "metadata": {
    "collapsed": false
   },
   "outputs": [
    {
     "data": {
      "text/plain": [
       "{}"
      ]
     },
     "execution_count": 9,
     "metadata": {},
     "output_type": "execute_result"
    }
   ],
   "source": [
    "function *foo() {\n",
    "\n",
    "    var x = 1 + (yield \"foo\");\n",
    "    console.log(x);\n",
    "}\n",
    "foo();"
   ]
  },
  {
   "cell_type": "markdown",
   "metadata": {},
   "source": [
    "## Asyncronous"
   ]
  },
  {
   "cell_type": "code",
   "execution_count": 10,
   "metadata": {
    "collapsed": false
   },
   "outputs": [],
   "source": [
    "function countTo(number, milliseconds) {\n",
    "    var counter = function() {\n",
    "        console.log(counter._n++);\n",
    "        \n",
    "        if (counter._n > number) {\n",
    "            clearInterval(counter._intervalObject);\n",
    "            console.warn(\"Done!\");\n",
    "        }\n",
    "    };\n",
    "    counter._n = 1;\n",
    "    counter._intervalObject = setInterval(counter, milliseconds);\n",
    "}\n",
    "\n",
    "countTo(5, 1000);"
   ]
  },
  {
   "cell_type": "code",
   "execution_count": 11,
   "metadata": {
    "collapsed": false
   },
   "outputs": [
    {
     "name": "stdout",
     "output_type": "stream",
     "text": [
      "Hello!\n",
      "Meu nome é: undefined\n",
      "1\n"
     ]
    },
    {
     "data": {
      "text/plain": [
       "'And good bye!'"
      ]
     },
     "execution_count": 11,
     "metadata": {},
     "output_type": "execute_result"
    },
    {
     "name": "stdout",
     "output_type": "stream",
     "text": [
      "And good bye!\n",
      "2\n",
      "3\n",
      "4\n",
      "5\n"
     ]
    },
    {
     "name": "stderr",
     "output_type": "stream",
     "text": [
      "Done!\n"
     ]
    }
   ],
   "source": [
    "$$async$$ = true;\n",
    "\n",
    "console.log(\"Hello!\");\n",
    "\n",
    "setTimeout(\n",
    "    function() {\n",
    "        $$done$$(\"And good bye!\");\n",
    "    },\n",
    "    1000\n",
    ");"
   ]
  }
 ],
 "metadata": {
  "kernelspec": {
   "display_name": "Javascript (Node.js)",
   "language": "javascript",
   "name": "javascript"
  },
  "language_info": {
   "file_extension": ".js",
   "mimetype": "application/javascript",
   "name": "javascript",
   "version": "7.10.0"
  }
 },
 "nbformat": 4,
 "nbformat_minor": 2
}
